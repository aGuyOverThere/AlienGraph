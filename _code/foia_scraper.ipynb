{
 "cells": [
  {
   "cell_type": "code",
   "execution_count": null,
   "metadata": {},
   "outputs": [],
   "source": [
    "!pip install requests\n",
    "!pip install pandas\n",
    "!pip install bs4"
   ]
  },
  {
   "cell_type": "code",
   "execution_count": 49,
   "metadata": {},
   "outputs": [],
   "source": [
    "import pandas as pd\n",
    "import requests\n",
    "from bs4 import BeautifulSoup\n",
    "import configparser\n",
    "import json"
   ]
  },
  {
   "cell_type": "code",
   "execution_count": 7,
   "metadata": {},
   "outputs": [],
   "source": [
    "parser = configparser.ConfigParser()\n",
    "parser.read(\"./secrets.ini\")\n",
    "foia_api = parser['foia'][\"api\"]"
   ]
  },
  {
   "cell_type": "code",
   "execution_count": 42,
   "metadata": {},
   "outputs": [],
   "source": [
    "# https://www.foia.gov/swagger.html, https://www.foia.gov/developer/agency-api/\n",
    "total_pages = 20\n",
    "documents = {'objects': []}\n",
    "for page in range(total_pages):\n",
    "    r = requests.get(f\"https://www.cia.gov/readingroom/search/site?page={page}&f%5B0%5D=im_field_taxonomy_keyword%3A477\")\n",
    "    soup = BeautifulSoup(r.text, 'html.parser')\n",
    "    try:\n",
    "        lines = soup.find('ol', {'class':\"search-results apachesolr_search-results\"}).findAll('li')\n",
    "        for line in lines:\n",
    "            html_link = line.find('a')\n",
    "            link = html_link['href']\n",
    "            text = html_link.text\n",
    "            documents['objects'].append({\"name\": text, \"link\": link})\n",
    "    except:\n",
    "        pass"
   ]
  },
  {
   "cell_type": "markdown",
   "metadata": {},
   "source": [
    "## Organize Requests\n",
    "\n",
    "CIA FOIA Most recent UFO Requests"
   ]
  },
  {
   "cell_type": "code",
   "execution_count": 47,
   "metadata": {},
   "outputs": [],
   "source": [
    "for i, object in enumerate(documents['objects']):\n",
    "    link = object['link']\n",
    "    r_1 = requests.get(link)\n",
    "    soup_1 = BeautifulSoup(r_1.text, 'html.parser')\n",
    "    main = soup_1.find('span', {'class':'file'})\n",
    "    pdf_document = main.find('a')['href']\n",
    "    documents['objects'][i]['pdf_document'] = pdf_document"
   ]
  },
  {
   "cell_type": "code",
   "execution_count": 50,
   "metadata": {},
   "outputs": [],
   "source": [
    "with open(\"cia_foia_ufo.json\", \"w\") as f:\n",
    "    json.dump(documents, f)"
   ]
  },
  {
   "cell_type": "code",
   "execution_count": null,
   "metadata": {},
   "outputs": [],
   "source": []
  }
 ],
 "metadata": {
  "kernelspec": {
   "display_name": "Python 3",
   "language": "python",
   "name": "python3"
  },
  "language_info": {
   "codemirror_mode": {
    "name": "ipython",
    "version": 3
   },
   "file_extension": ".py",
   "mimetype": "text/x-python",
   "name": "python",
   "nbconvert_exporter": "python",
   "pygments_lexer": "ipython3",
   "version": "3.10.11"
  },
  "orig_nbformat": 4
 },
 "nbformat": 4,
 "nbformat_minor": 2
}
